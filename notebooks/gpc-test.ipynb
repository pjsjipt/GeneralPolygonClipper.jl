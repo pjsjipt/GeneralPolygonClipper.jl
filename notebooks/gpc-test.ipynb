{
 "cells": [
  {
   "cell_type": "code",
   "execution_count": null,
   "id": "4d394d58",
   "metadata": {},
   "outputs": [],
   "source": [
    "import Pkg\n",
    "Pkg.activate(\".\")"
   ]
  },
  {
   "cell_type": "code",
   "execution_count": null,
   "id": "a87796c9",
   "metadata": {},
   "outputs": [],
   "source": [
    "using Revise\n",
    "using GLMakie\n",
    "using GeneralPolygonClipper"
   ]
  },
  {
   "cell_type": "code",
   "execution_count": null,
   "id": "34d383d3",
   "metadata": {},
   "outputs": [],
   "source": [
    "function plotgpc!(ax, p::GPCPolygon; kw...)\n",
    "    \n",
    "    for (i,c) in enumerate(p.contours)\n",
    "        #h = p.holes[i]\n",
    "        #if :ecolor\n",
    "        x = [cc.x for cc in c]\n",
    "        y = [cc.y for cc in c]\n",
    "        push!(x, c[1].x)\n",
    "        push!(y, c[1].y)\n",
    "        lines!(x, y; kw...)\n",
    "    end\n",
    "    return\n",
    "end\n",
    "function plotgpc(p::GPCPolygon; kw...)\n",
    "    fig = Figure()\n",
    "    ax = Axis(fig[1,1])\n",
    "    plotgpc!(ax, p)\n",
    "    fig\n",
    "end"
   ]
  },
  {
   "cell_type": "code",
   "execution_count": null,
   "id": "df6fff58",
   "metadata": {},
   "outputs": [],
   "source": [
    "p1 = GPCPolygon([0, 2, 2, 0], [0, 0, 2, 2])\n",
    "p2 = GPCPolygon([1,3,3,1], [1,1,3,3])\n",
    "pi = p1 ∩ p2\n",
    "pu = p1 ∪ p2\n",
    "pd1 = p1 - p2\n",
    "pd2 = p2 - p1\n",
    "px = p1 ⊻ p2"
   ]
  },
  {
   "cell_type": "code",
   "execution_count": null,
   "id": "ed585a74",
   "metadata": {},
   "outputs": [],
   "source": [
    "centroid(pd2)"
   ]
  },
  {
   "cell_type": "code",
   "execution_count": null,
   "id": "c8258984",
   "metadata": {},
   "outputs": [],
   "source": [
    "fig = Figure()\n",
    "ax1 = Axis(fig[1,1])\n",
    "plotgpc!(ax1, p1, color=:blue, linestyle=:dash, linewidth=1)\n",
    "plotgpc!(ax1, p2, color=:red, linestyle=:dash, linewidth=1)\n",
    "\n",
    "ax2 = Axis(fig[1,2])\n",
    "plotgpc!(ax1, p1, color=:blue, linestyle=:dash, linewidth=1)\n",
    "plotgpc!(ax1, p2, color=:red, linestyle=:dash, linewidth=1)\n",
    "plotgpc!(ax2, pi, color=:green, linewidth=3)\n",
    "\n",
    "ax3 = Axis(fig[2,1])\n",
    "plotgpc!(ax3, p1, color=:blue, linestyle=:dash, linewidth=1)\n",
    "plotgpc!(ax3, p2, color=:red, linestyle=:dash, linewidth=1)\n",
    "plotgpc!(ax3, pu, color=:green, linewidth=3)\n",
    "\n",
    "ax4 = Axis(fig[2,2])\n",
    "plotgpc!(ax4, p1, color=:blue, linestyle=:dash, linewidth=1)\n",
    "plotgpc!(ax4, p2, color=:red, linestyle=:dash, linewidth=1)\n",
    "plotgpc!(ax4, px, color=:green, linewidth=3)\n",
    "\n",
    "\n",
    "fig"
   ]
  },
  {
   "cell_type": "code",
   "execution_count": null,
   "id": "68ebc308",
   "metadata": {},
   "outputs": [],
   "source": [
    "fig = Figure()\n",
    "ax1 = Axis(fig[1,1])\n",
    "plotgpc!(ax1, p1, color=:blue, linestyle=:dash, linewidth=1)\n",
    "plotgpc!(ax1, p2, color=:red, linestyle=:dash, linewidth=1)\n",
    "\n",
    "ax2 = Axis(fig[2,1])\n",
    "plotgpc!(ax1, p1, color=:blue, linestyle=:dash, linewidth=1)\n",
    "plotgpc!(ax1, p2, color=:red, linestyle=:dash, linewidth=1)\n",
    "plotgpc!(ax2, pd1, color=:green, linewidth=3)\n",
    "\n",
    "ax3 = Axis(fig[2,2])\n",
    "plotgpc!(ax1, p1, color=:blue, linestyle=:dash, linewidth=1)\n",
    "plotgpc!(ax1, p2, color=:red, linestyle=:dash, linewidth=1)\n",
    "plotgpc!(ax2, pd2, color=:green, linewidth=3)\n",
    "\n",
    "fig"
   ]
  },
  {
   "cell_type": "code",
   "execution_count": null,
   "id": "95ca41bb",
   "metadata": {},
   "outputs": [],
   "source": [
    "(1.5 + 2.5 + 2.5)/3"
   ]
  },
  {
   "cell_type": "code",
   "execution_count": null,
   "id": "94df6dd7",
   "metadata": {},
   "outputs": [],
   "source": [
    "x = [0.0, 1, 2, 3, 3, 5, 5, 6, 7, 8, 8, 0]\n",
    "y = [0.0, 0, 0, 0, 3, 3, 0, 0, 0, 0, 4, 4]\n",
    "p1 = GPCPolygon(x, y)"
   ]
  },
  {
   "cell_type": "code",
   "execution_count": null,
   "id": "2712006a",
   "metadata": {},
   "outputs": [],
   "source": [
    "triarea(u, v, w) = abs(u.x*v.y - v.x*u.y + v.x*w.y - w.x*v.y + w.x*u.y - u.x*w.y)/2\n"
   ]
  },
  {
   "cell_type": "code",
   "execution_count": null,
   "id": "c4e60947",
   "metadata": {},
   "outputs": [],
   "source": [
    "pts = Vertex.([(0,0), (0,1), (1,0)])\n",
    "triarea(pts...)"
   ]
  },
  {
   "cell_type": "code",
   "execution_count": null,
   "id": "11b10282",
   "metadata": {},
   "outputs": [],
   "source": [
    "x = [1.0,2,2,1]\n",
    "y = [1.0,1,2,2]\n",
    "h1 = GPCPolygon(x,y)\n",
    "x = x .+ 5\n",
    "h2 = GPCPolygon(x,y)"
   ]
  },
  {
   "cell_type": "code",
   "execution_count": null,
   "id": "65a7a363",
   "metadata": {},
   "outputs": [],
   "source": [
    "hh = h1 ∪ h2"
   ]
  },
  {
   "cell_type": "code",
   "execution_count": null,
   "id": "9eedb3d6",
   "metadata": {},
   "outputs": [],
   "source": [
    "hh.contours"
   ]
  },
  {
   "cell_type": "code",
   "execution_count": null,
   "id": "c040af6b",
   "metadata": {},
   "outputs": [],
   "source": [
    "pp = p1 - hh"
   ]
  },
  {
   "cell_type": "code",
   "execution_count": null,
   "id": "b124f3de",
   "metadata": {},
   "outputs": [],
   "source": [
    "pp.contours"
   ]
  },
  {
   "cell_type": "code",
   "execution_count": null,
   "id": "42af4be3",
   "metadata": {},
   "outputs": [],
   "source": [
    "x = [-1.0, 9, 9, -1.0]\n",
    "y = [0.5, 0.5, 2.5, 2.5]\n",
    "p2 = GPCPolygon(x,y)"
   ]
  },
  {
   "cell_type": "code",
   "execution_count": null,
   "id": "11e7d0e8",
   "metadata": {},
   "outputs": [],
   "source": [
    "pp2 = pp ∩ p2"
   ]
  },
  {
   "cell_type": "code",
   "execution_count": null,
   "id": "2b4c5322",
   "metadata": {},
   "outputs": [],
   "source": [
    "pp2.contours"
   ]
  },
  {
   "cell_type": "code",
   "execution_count": null,
   "id": "713bf842",
   "metadata": {},
   "outputs": [],
   "source": [
    "pp2.holes"
   ]
  },
  {
   "cell_type": "code",
   "execution_count": null,
   "id": "857dd41a",
   "metadata": {},
   "outputs": [],
   "source": [
    "pp2.contours[3]"
   ]
  },
  {
   "cell_type": "code",
   "execution_count": null,
   "id": "cf709074",
   "metadata": {},
   "outputs": [],
   "source": [
    "plotgpc(pp2)"
   ]
  },
  {
   "cell_type": "code",
   "execution_count": null,
   "id": "b80de36a",
   "metadata": {},
   "outputs": [],
   "source": [
    "l0 = Point{2,Float64}[(-5, 0.0), (-1.0, 0.0), (-1.0, 3.0), (-5.0, 3.0)]\n",
    "l1 = Point{2,Float64}[(0.0, 0.0), (8.0, 0.0), (8.0, 3.0), (0.0, 3.0)]\n",
    "l2 = Point{2,Float64}[(1.0, 1.0), (2.0, 1.0), (2.0, 2.0), (1.0, 2.0)]\n",
    "l3 = Point{2,Float64}[(5.0, 1.0), (6.0, 1.0), (6.0, 2.0), (5.0, 2.0)]\n",
    "\n"
   ]
  },
  {
   "cell_type": "code",
   "execution_count": null,
   "id": "46e9621c",
   "metadata": {},
   "outputs": [],
   "source": [
    "poly(Polygon(l1))\n",
    "poly!(Polygon(l2))\n",
    "poly!(Polygon(l3))\n",
    "current_figure()"
   ]
  },
  {
   "cell_type": "code",
   "execution_count": null,
   "id": "b4975eb8",
   "metadata": {},
   "outputs": [],
   "source": [
    "poly(Polygon([l0,l1], [l2,l3]))"
   ]
  },
  {
   "cell_type": "code",
   "execution_count": null,
   "id": "0468d10c",
   "metadata": {},
   "outputs": [],
   "source": [
    "x1 = Polygon(l1)"
   ]
  },
  {
   "cell_type": "code",
   "execution_count": null,
   "id": "2c80d39e",
   "metadata": {},
   "outputs": [],
   "source": [
    "v = Point2(1.0, 1.0)"
   ]
  },
  {
   "cell_type": "code",
   "execution_count": null,
   "id": "c9282bbb",
   "metadata": {},
   "outputs": [],
   "source": [
    "poly(x1)\n",
    "scatter!(v)\n",
    "current_figure()"
   ]
  },
  {
   "cell_type": "code",
   "execution_count": null,
   "id": "0174ae57",
   "metadata": {},
   "outputs": [],
   "source": [
    "methods(∈)"
   ]
  },
  {
   "cell_type": "code",
   "execution_count": null,
   "id": "21413143",
   "metadata": {},
   "outputs": [],
   "source": [
    "sum(!, [false, false, true, false, true, false])\n"
   ]
  },
  {
   "cell_type": "code",
   "execution_count": null,
   "id": "64a2233e",
   "metadata": {},
   "outputs": [],
   "source": [
    "x = randn(20)\n"
   ]
  },
  {
   "cell_type": "code",
   "execution_count": null,
   "id": "e6700fe9",
   "metadata": {},
   "outputs": [],
   "source": [
    "[x[i] for i in 1:20 if x[i]^2 > 1]"
   ]
  },
  {
   "cell_type": "code",
   "execution_count": null,
   "id": "0875e753",
   "metadata": {},
   "outputs": [],
   "source": [
    "poly(gpcpoly2poly(pp))"
   ]
  },
  {
   "cell_type": "code",
   "execution_count": null,
   "id": "fcc39bd7",
   "metadata": {},
   "outputs": [],
   "source": [
    "supertype(Polygon)"
   ]
  },
  {
   "cell_type": "code",
   "execution_count": null,
   "id": "b60a7faf",
   "metadata": {},
   "outputs": [],
   "source": [
    "Polygon{2,Float64}"
   ]
  },
  {
   "cell_type": "code",
   "execution_count": null,
   "id": "bc7684b4",
   "metadata": {},
   "outputs": [],
   "source": [
    "area(Polygon(l1))"
   ]
  },
  {
   "cell_type": "code",
   "execution_count": null,
   "id": "9893da66",
   "metadata": {},
   "outputs": [],
   "source": [
    "supertype(Polygon)"
   ]
  },
  {
   "cell_type": "code",
   "execution_count": null,
   "id": "4cdc9e3b",
   "metadata": {},
   "outputs": [],
   "source": [
    "plotgpc(pp2)"
   ]
  },
  {
   "cell_type": "code",
   "execution_count": null,
   "id": "7d4dd73b",
   "metadata": {},
   "outputs": [],
   "source": [
    "area(pp2)"
   ]
  },
  {
   "cell_type": "code",
   "execution_count": null,
   "id": "f8d5bd3b",
   "metadata": {},
   "outputs": [],
   "source": [
    "normal"
   ]
  },
  {
   "cell_type": "code",
   "execution_count": null,
   "id": "947bda84",
   "metadata": {},
   "outputs": [],
   "source": [
    "xpp = gpcpoly2poly(pp)"
   ]
  },
  {
   "cell_type": "code",
   "execution_count": null,
   "id": "b2c0e079",
   "metadata": {},
   "outputs": [],
   "source": [
    "coordinates(xpp)"
   ]
  },
  {
   "cell_type": "code",
   "execution_count": null,
   "id": "6aa38bfb",
   "metadata": {},
   "outputs": [],
   "source": []
  }
 ],
 "metadata": {
  "kernelspec": {
   "display_name": "Julia 1.7.2",
   "language": "julia",
   "name": "julia-1.7"
  },
  "language_info": {
   "file_extension": ".jl",
   "mimetype": "application/julia",
   "name": "julia",
   "version": "1.7.2"
  }
 },
 "nbformat": 4,
 "nbformat_minor": 5
}
